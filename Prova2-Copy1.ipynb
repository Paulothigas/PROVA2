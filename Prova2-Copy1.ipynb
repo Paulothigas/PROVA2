{
 "cells": [
  {
   "cell_type": "code",
   "execution_count": 61,
   "id": "5ff041d9-9b4d-4f75-8d1d-18b10c68bc5d",
   "metadata": {},
   "outputs": [],
   "source": [
    "# criar a lista \n",
    "#depois modulos\n",
    "import statistics\n",
    "\n",
    "consumo_diario = [50,45,55,60,48,52,47,49,53,51,50,46,54,61,49,53,48,50,52,47,56,50,55,60,48,52,47,49,53,51]\n",
    "\n"
   ]
  },
  {
   "cell_type": "code",
   "execution_count": 63,
   "id": "c3f9e40b-c465-46ab-9e6b-3b0b457f3f6c",
   "metadata": {},
   "outputs": [],
   "source": [
    "def consumo(lista):\n",
    "    media = statistics.mean(lista)\n",
    "    return media\n"
   ]
  },
  {
   "cell_type": "code",
   "execution_count": 65,
   "id": "3d369344-6b75-4240-a6e3-a0ae149707d2",
   "metadata": {},
   "outputs": [
    {
     "name": "stdout",
     "output_type": "stream",
     "text": [
      " O consumo diário médio foi: 51.36666666666667\n"
     ]
    }
   ],
   "source": [
    "print(f' O consumo diário médio foi: {consumo(consumo_diario)}')"
   ]
  },
  {
   "cell_type": "code",
   "execution_count": null,
   "id": "3c6f419c-5109-4056-abb4-1e5e1e9bce23",
   "metadata": {},
   "outputs": [],
   "source": []
  }
 ],
 "metadata": {
  "kernelspec": {
   "display_name": "Python [conda env:base] *",
   "language": "python",
   "name": "conda-base-py"
  },
  "language_info": {
   "codemirror_mode": {
    "name": "ipython",
    "version": 3
   },
   "file_extension": ".py",
   "mimetype": "text/x-python",
   "name": "python",
   "nbconvert_exporter": "python",
   "pygments_lexer": "ipython3",
   "version": "3.12.7"
  }
 },
 "nbformat": 4,
 "nbformat_minor": 5
}
